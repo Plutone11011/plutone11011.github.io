{
 "cells": [
  {
   "cell_type": "code",
   "execution_count": 2,
   "id": "920739d6-83da-4eac-b5c9-fdf5c032f16d",
   "metadata": {},
   "outputs": [
    {
     "name": "stdout",
     "output_type": "stream",
     "text": [
      "Fit Multinomial Logistic Regression classifier with #135 training points\n",
      "Feature names [\"sepal length\", \"sepal width\", \"petal length\", \"petal width\"]\n",
      "Dataset records shape: [135, 4]\n",
      "Dataset targets shape: [135]\n",
      "Pearson correlation matrix of training features\n",
      "sepal length-0.12 0.87 0.81 \n",
      "sepal width              -0.43 -0.37 \n",
      "petal length                          0.96 \n",
      "petal width\n",
      "\n"
     ]
    }
   ],
   "source": [
    ":dep csv = \"1.3.1\"\n",
    ":dep linfa = \"0.7.1\"\n",
    ":dep plotters = \"0.3.7\"\n",
    ":dep ndarray = \"0.15.6\"\n",
    ":dep linfa-logistic = \"0.7.1\"\n",
    ":dep linfa-datasets = { version = \"0.7.1\", features = [\"iris\"] }\n",
    ":dep rand = \"0.8.5\" \n",
    "use linfa::prelude::*;\n",
    "use ndarray::prelude::*;\n",
    "use ndarray::Array1;\n",
    "use linfa_logistic::{MultiLogisticRegression, MultiFittedLogisticRegression};\n",
    "use linfa::metrics::ConfusionMatrix;\n",
    "use rand::prelude::*;\n",
    "\n",
    "\n",
    "\n",
    "/// Loads the Iris dataset from a CSV file and returns a linfa Dataset\n",
    "pub fn load_iris_dataset(split_ratio: f32) -> (Dataset<f64, usize, Ix1>, Dataset<f64, usize, Ix1>){\n",
    "\n",
    "    // let mut reader = ReaderBuilder::new()\n",
    "    //     .has_headers(false)\n",
    "    //     .from_path(path)?;\n",
    "    let mut rng = thread_rng();\n",
    "    \n",
    "    let (train, test): (Dataset<f64, usize, Ix1>, Dataset<f64, usize, Ix1>) = linfa_datasets::iris().shuffle(&mut rng)\n",
    "        .with_feature_names(vec![\"sepal length\", \"sepal width\", \"petal length\", \"petal width\"])\n",
    "        .split_with_ratio(split_ratio);\n",
    "    println!(\n",
    "        \"Fit Multinomial Logistic Regression classifier with #{} training points\",\n",
    "        train.nsamples()\n",
    "    );\n",
    "    println!(\"Feature names {:?}\", train.feature_names());\n",
    "    println!(\"Dataset records shape: {:?}\", train.records.shape());\n",
    "    println!(\"Dataset targets shape: {:?}\", train.targets.shape());\n",
    "    (train,test)\n",
    "}\n",
    "\n",
    "\n",
    "fn draw_corr_matrix(corr_matrix) -> Result<(), Box<dyn std::error::Error>>{\n",
    "    correlation_coefficients = corr_matrix\n",
    "}\n",
    "\n",
    "\n",
    "\n",
    "\n",
    "let (train_set, test_set) = load_iris_dataset(0.9);\n",
    "let corr_matrix = train_set.pearson_correlation();\n",
    "println!(\"Pearson correlation matrix of training features\");\n",
    "println!(\"{}\", corr_matrix);\n",
    "\n",
    "    \n"
   ]
  },
  {
   "cell_type": "code",
   "execution_count": 3,
   "id": "9d9ae779-6bfe-448d-81c0-41337368ffbd",
   "metadata": {},
   "outputs": [
    {
     "name": "stdout",
     "output_type": "stream",
     "text": [
      "Fit Multinomial Logistic Regression classifier with #135 training points\n",
      "Predict class of #15 testing points\n",
      "Predictions: [1, 2, 2, 1, 0, 2, 1, 1, 0, 2, 2, 0, 2, 2, 2], shape=[15], strides=[1], layout=CFcf (0xf), const ndim=1\n",
      "Ground truth: [1, 2, 2, 1, 0, 2, 1, 1, 0, 2, 2, 0, 2, 2, 2], shape=[15], strides=[1], layout=CFcf (0xf), const ndim=1\n"
     ]
    },
    {
     "data": {
      "text/plain": [
       "classes    | 2          | 1          | 0         \n",
       "2          | 8          | 0          | 0         \n",
       "1          | 0          | 4          | 0         \n",
       "0          | 0          | 0          | 3         \n"
      ]
     },
     "execution_count": 3,
     "metadata": {},
     "output_type": "execute_result"
    }
   ],
   "source": [
    "fn fit_logistic_regressor(train_set: &Dataset<f64, usize, Ix1>) -> MultiFittedLogisticRegression<f64, usize> {\n",
    "    \n",
    "\n",
    "    println!(\n",
    "        \"Fit Multinomial Logistic Regression classifier with #{} training points\",\n",
    "        train_set.nsamples()\n",
    "    );\n",
    "\n",
    "    // fit a Logistic regression model with 150 max iterations\n",
    "    let model = MultiLogisticRegression::default()\n",
    "        .max_iterations(50)\n",
    "        .fit(train_set)\n",
    "        .unwrap();\n",
    "\n",
    "    model\n",
    "\n",
    "}\n",
    "\n",
    "fn predict_class(test_set: &Dataset<f64, usize, Ix1>, model: MultiFittedLogisticRegression<f64, usize>) \n",
    "    -> (Array1<usize>, ConfusionMatrix<usize>) {\n",
    "    println!(\n",
    "        \"Predict class of #{} testing points\",\n",
    "        test_set.nsamples()\n",
    "    );\n",
    "\n",
    "    let pred = model.predict(test_set);\n",
    "    let cm = pred.confusion_matrix(test_set).unwrap();\n",
    "    (pred, cm)\n",
    "}\n",
    "\n",
    "let model = fit_logistic_regressor(&train_set);\n",
    "\n",
    "let (prediction, cm) = predict_class(&test_set, model);\n",
    "\n",
    "let n_samples_test = test_set.nsamples();\n",
    "println!(\"Predictions: {:?}\", prediction.slice(s![0..n_samples_test]));\n",
    "println!(\"Ground truth: {:?}\", test_set.targets.slice(s![0..n_samples_test])); \n",
    "\n",
    "cm"
   ]
  },
  {
   "cell_type": "code",
   "execution_count": null,
   "id": "a681c565-fbd5-4b72-9084-6dacfde7ebf9",
   "metadata": {},
   "outputs": [],
   "source": [
    "// Plot iris dataset features\n"
   ]
  }
 ],
 "metadata": {
  "kernelspec": {
   "display_name": "Rust",
   "language": "rust",
   "name": "rust"
  },
  "language_info": {
   "codemirror_mode": "rust",
   "file_extension": ".rs",
   "mimetype": "text/rust",
   "name": "Rust",
   "pygment_lexer": "rust",
   "version": ""
  }
 },
 "nbformat": 4,
 "nbformat_minor": 5
}
